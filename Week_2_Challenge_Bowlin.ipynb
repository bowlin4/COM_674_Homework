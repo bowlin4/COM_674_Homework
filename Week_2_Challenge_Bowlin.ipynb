{
 "cells": [
  {
   "cell_type": "markdown",
   "metadata": {},
   "source": [
    "# Week 2 Coding Challenge\n",
    "## Hannah Bowlin"
   ]
  },
  {
   "cell_type": "markdown",
   "metadata": {},
   "source": [
    "Exercise 1.1: What is the function of the secondary memory in a computer?\n",
    "\n",
    "Answer: C, Store information for the long term, even beyond a power cycle."
   ]
  },
  {
   "cell_type": "markdown",
   "metadata": {},
   "source": [
    "Exercise 1.6: Where in the computer is a variable such as 'x' stored after the following Python line finishes?\n",
    "\n",
    "Answer: B, Main Memory"
   ]
  },
  {
   "cell_type": "markdown",
   "metadata": {},
   "source": [
    "Exercise 1.7: What will the following program print out:\n",
    "\n",
    "Answer: B, 42"
   ]
  },
  {
   "cell_type": "markdown",
   "metadata": {},
   "source": [
    "Exercise 2.2"
   ]
  },
  {
   "cell_type": "code",
   "execution_count": 4,
   "metadata": {},
   "outputs": [
    {
     "name": "stdout",
     "output_type": "stream",
     "text": [
      "Welcome Chuck\n"
     ]
    }
   ],
   "source": [
    "name = input(\"What is your name?\")\n",
    "print(\"Welcome \" + name)"
   ]
  },
  {
   "cell_type": "markdown",
   "metadata": {},
   "source": [
    "Exercise 2.3"
   ]
  },
  {
   "cell_type": "code",
   "execution_count": 18,
   "metadata": {},
   "outputs": [
    {
     "name": "stdout",
     "output_type": "stream",
     "text": [
      "96.25\n"
     ]
    }
   ],
   "source": [
    "hours = 35\n",
    "rate = 2.75\n",
    "pay = hours * rate\n",
    "round (pay, 2)\n",
    "print(pay)"
   ]
  },
  {
   "cell_type": "markdown",
   "metadata": {},
   "source": [
    "**Exercise 2.4"
   ]
  },
  {
   "cell_type": "code",
   "execution_count": 14,
   "metadata": {},
   "outputs": [],
   "source": [
    "width = 17\n",
    "height = 12.0"
   ]
  },
  {
   "cell_type": "markdown",
   "metadata": {},
   "source": [
    "1. Answer: integer"
   ]
  },
  {
   "cell_type": "code",
   "execution_count": 20,
   "metadata": {},
   "outputs": [
    {
     "name": "stdout",
     "output_type": "stream",
     "text": [
      "8.5\n"
     ]
    },
    {
     "data": {
      "text/plain": [
       "float"
      ]
     },
     "execution_count": 20,
     "metadata": {},
     "output_type": "execute_result"
    }
   ],
   "source": [
    "print(width/2)\n",
    "type(width/2)"
   ]
  },
  {
   "cell_type": "markdown",
   "metadata": {},
   "source": [
    "2. Answer: float"
   ]
  },
  {
   "cell_type": "code",
   "execution_count": 19,
   "metadata": {},
   "outputs": [
    {
     "name": "stdout",
     "output_type": "stream",
     "text": [
      "8.5\n"
     ]
    },
    {
     "data": {
      "text/plain": [
       "float"
      ]
     },
     "execution_count": 19,
     "metadata": {},
     "output_type": "execute_result"
    }
   ],
   "source": [
    "print(width/2.0)\n",
    "type(width/2.0)"
   ]
  },
  {
   "cell_type": "markdown",
   "metadata": {},
   "source": [
    "3. Answer: float"
   ]
  },
  {
   "cell_type": "code",
   "execution_count": 21,
   "metadata": {},
   "outputs": [
    {
     "name": "stdout",
     "output_type": "stream",
     "text": [
      "4.0\n"
     ]
    },
    {
     "data": {
      "text/plain": [
       "float"
      ]
     },
     "execution_count": 21,
     "metadata": {},
     "output_type": "execute_result"
    }
   ],
   "source": [
    "print(height/3)\n",
    "type(height/3)"
   ]
  },
  {
   "cell_type": "markdown",
   "metadata": {},
   "source": [
    "4. Answer: integer"
   ]
  },
  {
   "cell_type": "code",
   "execution_count": 22,
   "metadata": {},
   "outputs": [
    {
     "name": "stdout",
     "output_type": "stream",
     "text": [
      "11\n"
     ]
    },
    {
     "data": {
      "text/plain": [
       "int"
      ]
     },
     "execution_count": 22,
     "metadata": {},
     "output_type": "execute_result"
    }
   ],
   "source": [
    "print(1 + 2 * 5)\n",
    "type(1 + 2 * 5)"
   ]
  },
  {
   "cell_type": "markdown",
   "metadata": {},
   "source": [
    "Exercise 2.5"
   ]
  },
  {
   "cell_type": "code",
   "execution_count": 1,
   "metadata": {},
   "outputs": [
    {
     "name": "stdout",
     "output_type": "stream",
     "text": [
      "The temperature is 32.0 degrees Fahrenheit.\n"
     ]
    }
   ],
   "source": [
    "tempC = int(input(\"What is the temperature in Celsius?\"))\n",
    "tempF = (tempC * 9/5 + 32)\n",
    "tempF = str(tempF)\n",
    "print(\"The temperature is \" + tempF + \" degrees Fahrenheit.\")"
   ]
  },
  {
   "cell_type": "markdown",
   "metadata": {},
   "source": [
    "Exercise 3.1"
   ]
  },
  {
   "cell_type": "code",
   "execution_count": 16,
   "metadata": {},
   "outputs": [
    {
     "name": "stdout",
     "output_type": "stream",
     "text": [
      "You earned 475.0 dollars this week.\n"
     ]
    }
   ],
   "source": [
    "# hours = 45\n",
    "# rate = 10\n",
    "\n",
    "try:\n",
    "    hours = float(input(\"How many hours did you work this week?\"))\n",
    "    rate = float(input(\"What is your pay rate?\"))\n",
    "    if hours > 40:\n",
    "        pay = (40 * rate) + ((hours - 40) * (rate * 1.5))\n",
    "    elif hours <= 40:\n",
    "        pay = hours * rate\n",
    "    print(f\"You earned {pay} dollars this week.\")\n",
    "except:\n",
    "    print(\"Error, please enter numeric input.\")\n",
    "\n"
   ]
  },
  {
   "cell_type": "markdown",
   "metadata": {},
   "source": [
    "Exercise 3.2"
   ]
  },
  {
   "cell_type": "code",
   "execution_count": 10,
   "metadata": {},
   "outputs": [
    {
     "name": "stdout",
     "output_type": "stream",
     "text": [
      "Error, please enter numeric input.\n"
     ]
    }
   ],
   "source": [
    "hours = input(\"How many hours did you work this week?\")\n",
    "rate = input(\"What is your pay rate?\")\n",
    "\n",
    "try:\n",
    "    if hours > 40:\n",
    "        pay = (40 * rate) + ((hours - 40) * (rate * 1.5))\n",
    "    elif hours <= 40:\n",
    "        pay = 40 * rate\n",
    "except TypeError:\n",
    "    print(\"Error, please enter numeric input.\")"
   ]
  },
  {
   "cell_type": "markdown",
   "metadata": {},
   "source": [
    "Exercise 3.3"
   ]
  },
  {
   "cell_type": "code",
   "execution_count": 6,
   "metadata": {},
   "outputs": [
    {
     "name": "stdout",
     "output_type": "stream",
     "text": [
      "Bad Score\n"
     ]
    }
   ],
   "source": [
    "try:\n",
    "    score = float(input(\"Enter the score between 0.0 and 1.0.\"))\n",
    "    if score >= 0.9 and score <= 1.0:\n",
    "        print(\"A\")\n",
    "    elif score >= 0.8 and score < 0.9:\n",
    "        print(\"B\")\n",
    "    elif score >= 0.7 and score < 0.8:\n",
    "        print(\"C\")\n",
    "    elif score >= 0.6 and score < 0.7:\n",
    "        print(\"D\")\n",
    "    elif score < 0.6 and score >= 0.0:\n",
    "        print(\"F\")\n",
    "    else:\n",
    "        print(\"Bad Score\")\n",
    "except ValueError:\n",
    "    print(\"Bad Score\")"
   ]
  },
  {
   "cell_type": "markdown",
   "metadata": {},
   "source": [
    "Exercise 4.1"
   ]
  },
  {
   "cell_type": "code",
   "execution_count": 68,
   "metadata": {},
   "outputs": [
    {
     "name": "stdout",
     "output_type": "stream",
     "text": [
      "0.5572100162503856\n",
      "0.029833146499546936\n",
      "0.6045753806909951\n",
      "0.017373055206432064\n",
      "0.7640800366538951\n",
      "0.43962649939038745\n",
      "0.9841613697457416\n",
      "0.7426619843610329\n",
      "0.26598135384428967\n",
      "0.2831647534876708\n"
     ]
    }
   ],
   "source": [
    "for i in range(10):\n",
    "    x = random.random()\n",
    "    print(x)"
   ]
  },
  {
   "cell_type": "markdown",
   "metadata": {},
   "source": [
    "Exercise 4.2"
   ]
  },
  {
   "cell_type": "code",
   "execution_count": 72,
   "metadata": {},
   "outputs": [
    {
     "name": "stdout",
     "output_type": "stream",
     "text": [
      "I'm a lumberjack, and I'm okay.\n",
      "I sleep all night and I work all day.\n",
      "I'm a lumberjack, and I'm okay.\n",
      "I sleep all night and I work all day.\n"
     ]
    }
   ],
   "source": [
    "repeat_lyrics()\n",
    "def print_lyrics(): \n",
    "    print(\"I'm a lumberjack, and I'm okay.\") \n",
    "    print(\"I sleep all night and I work all day.\")\n",
    "def repeat_lyrics(): \n",
    "    print_lyrics() \n",
    "    print_lyrics() "
   ]
  },
  {
   "cell_type": "markdown",
   "metadata": {},
   "source": [
    "Exercise 4.3"
   ]
  },
  {
   "cell_type": "code",
   "execution_count": 73,
   "metadata": {},
   "outputs": [
    {
     "name": "stdout",
     "output_type": "stream",
     "text": [
      "I'm a lumberjack, and I'm okay.\n",
      "I sleep all night and I work all day.\n",
      "I'm a lumberjack, and I'm okay.\n",
      "I sleep all night and I work all day.\n"
     ]
    }
   ],
   "source": [
    "\n",
    "def repeat_lyrics(): \n",
    "    print_lyrics() \n",
    "    print_lyrics() \n",
    "def print_lyrics(): \n",
    "    print(\"I'm a lumberjack, and I'm okay.\") \n",
    "    print(\"I sleep all night and I work all day.\")\n",
    "repeat_lyrics()"
   ]
  },
  {
   "cell_type": "markdown",
   "metadata": {},
   "source": [
    "Exercise 4.4 Answer: D"
   ]
  },
  {
   "cell_type": "markdown",
   "metadata": {},
   "source": [
    "Exercise 4.5 Answer: D"
   ]
  },
  {
   "cell_type": "markdown",
   "metadata": {},
   "source": [
    "Exercise 4.6"
   ]
  },
  {
   "cell_type": "code",
   "execution_count": 11,
   "metadata": {},
   "outputs": [
    {
     "name": "stdout",
     "output_type": "stream",
     "text": [
      "475.0\n"
     ]
    }
   ],
   "source": [
    "# Hours = 45\n",
    "# Rate = 10\n",
    "\n",
    "hours = float(input(\"How many hours did you work this week?\"))\n",
    "rate = float(input(\"What is your pay rate?\"))\n",
    "\n",
    "def computepay(hours, rate):\n",
    "    if hours > 40:\n",
    "        pay = (40 * rate) + ((hours - 40) * (rate * 1.5))\n",
    "    elif hours <= 40:\n",
    "        pay = 40 * rate\n",
    "    return pay\n",
    "\n",
    "print(computepay(hours, rate))"
   ]
  },
  {
   "cell_type": "markdown",
   "metadata": {},
   "source": [
    "Exercise 4.7"
   ]
  },
  {
   "cell_type": "code",
   "execution_count": 9,
   "metadata": {},
   "outputs": [
    {
     "name": "stdout",
     "output_type": "stream",
     "text": [
      "F\n"
     ]
    }
   ],
   "source": [
    "score = input(\"What is your score?\")\n",
    "\n",
    "def computegrade(score):\n",
    "    try:\n",
    "        score = float(score)\n",
    "        if(score >= 0.0 and score <= 1.0):\n",
    "            if(score >= 0.9 and score <= 1.0):\n",
    "                print(\"A\")\n",
    "            elif(score >= 0.8 and score < 0.9):\n",
    "                print(\"B\")\n",
    "            elif(score >= 0.7 and score < 0.8):\n",
    "                print(\"C\")\n",
    "            elif(score >= 0.6 and score < 0.7):\n",
    "                print(\"D\")\n",
    "            elif(score < 0.6 and score >= 0.0):\n",
    "                print(\"F\")\n",
    "        else:\n",
    "            print(\"Bad Score\")\n",
    "    except ValueError:\n",
    "        print(\"Bad Score\")\n",
    "    return score\n",
    "\n",
    "final_score = computegrade(score)"
   ]
  }
 ],
 "metadata": {
  "kernelspec": {
   "display_name": "base",
   "language": "python",
   "name": "python3"
  },
  "language_info": {
   "codemirror_mode": {
    "name": "ipython",
    "version": 3
   },
   "file_extension": ".py",
   "mimetype": "text/x-python",
   "name": "python",
   "nbconvert_exporter": "python",
   "pygments_lexer": "ipython3",
   "version": "3.11.4"
  },
  "orig_nbformat": 4
 },
 "nbformat": 4,
 "nbformat_minor": 2
}
