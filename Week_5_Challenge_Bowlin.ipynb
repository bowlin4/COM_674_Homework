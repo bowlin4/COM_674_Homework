{
 "cells": [
  {
   "cell_type": "markdown",
   "metadata": {},
   "source": [
    "## Week 5 Coding Challenge\n",
    "### Hannah Bowlin"
   ]
  },
  {
   "cell_type": "markdown",
   "metadata": {},
   "source": [
    "#### 9.2"
   ]
  },
  {
   "cell_type": "code",
   "execution_count": 4,
   "metadata": {},
   "outputs": [
    {
     "name": "stdout",
     "output_type": "stream",
     "text": [
      "{'Sat': 1, 'Fri': 20, 'Thu': 6}\n"
     ]
    }
   ],
   "source": [
    "fname = input('Enter the file name: ')\n",
    "try:\n",
    "    fhand = open(fname)\n",
    "except:\n",
    "    print('File cannot be opened:', fname)\n",
    "    exit()\n",
    "\n",
    "counts = dict()\n",
    "for line in fhand:\n",
    "    words = line.split()\n",
    "    if len(words) < 3 or words[0] != 'From':\n",
    "        continue\n",
    "    else:\n",
    "        if words[2] not in counts:\n",
    "            counts[words[2]] = 1\n",
    "        else:\n",
    "            counts[words[2]] += 1\n",
    "\n",
    "print(counts)"
   ]
  },
  {
   "cell_type": "markdown",
   "metadata": {},
   "source": [
    "#### 9.3"
   ]
  },
  {
   "cell_type": "code",
   "execution_count": 11,
   "metadata": {},
   "outputs": [
    {
     "name": "stdout",
     "output_type": "stream",
     "text": [
      "{'stephen.marquard@uct.ac.za': 4, 'louis@media.berkeley.edu': 6, 'zqian@umich.edu': 8, 'rjlowe@iupui.edu': 4, 'cwen@iupui.edu': 10, 'gsilver@umich.edu': 6, 'wagnermr@iupui.edu': 2, 'antranig@caret.cam.ac.uk': 2, 'gopal.ramasammycook@gmail.com': 2, 'david.horwitz@uct.ac.za': 8, 'ray@media.berkeley.edu': 2}\n"
     ]
    }
   ],
   "source": [
    "fname = input('Enter the file name: ')\n",
    "try:\n",
    "    fhand = open(fname)\n",
    "except:\n",
    "    print('File cannot be opened:', fname)\n",
    "    exit()\n",
    "\n",
    "counts = dict()\n",
    "for line in fhand:\n",
    "    words = line.split()\n",
    "    for word in line:\n",
    "        if \"@\" in word and line.startswith(\"From\"):\n",
    "            if words[1] not in counts:\n",
    "                counts[words[1]] = 1\n",
    "            else:\n",
    "                counts[words[1]] += 1\n",
    "\n",
    "print(counts)"
   ]
  },
  {
   "cell_type": "code",
   "execution_count": 13,
   "metadata": {},
   "outputs": [
    {
     "name": "stdout",
     "output_type": "stream",
     "text": [
      "{'stephen.marquard@uct.ac.za': 2, 'louis@media.berkeley.edu': 3, 'zqian@umich.edu': 4, 'rjlowe@iupui.edu': 2, 'cwen@iupui.edu': 5, 'gsilver@umich.edu': 3, 'wagnermr@iupui.edu': 1, 'antranig@caret.cam.ac.uk': 1, 'gopal.ramasammycook@gmail.com': 1, 'david.horwitz@uct.ac.za': 4, 'ray@media.berkeley.edu': 1}\n"
     ]
    }
   ],
   "source": [
    "fname = input('Enter the file name: ')\n",
    "try:\n",
    "    fhand = open(fname)\n",
    "except:\n",
    "    print('File cannot be opened:', fname)\n",
    "    exit()\n",
    "\n",
    "counts = dict()\n",
    "for line in fhand:\n",
    "    words = line.split()\n",
    "    if len(words) < 2 or words[0] != 'From':\n",
    "        continue\n",
    "    else:\n",
    "        if words[1] not in counts:\n",
    "            counts[words[1]] = 1\n",
    "        else:\n",
    "            counts[words[1]] += 1\n",
    "\n",
    "print(counts)"
   ]
  },
  {
   "cell_type": "markdown",
   "metadata": {},
   "source": [
    "#### 9.4"
   ]
  },
  {
   "cell_type": "code",
   "execution_count": 50,
   "metadata": {},
   "outputs": [
    {
     "name": "stdout",
     "output_type": "stream",
     "text": [
      "168\n"
     ]
    }
   ],
   "source": [
    "fname = input('Enter the file name: ')\n",
    "try:\n",
    "    fhand = open(fname)\n",
    "except:\n",
    "    print('File cannot be opened:', fname)\n",
    "    exit()\n",
    "\n",
    "\n",
    "counts = dict()\n",
    "for line in fhand:\n",
    "    for word in words:\n",
    "        if line.startswith(\"From\") and \"@\" in word:\n",
    "            words = line.split()\n",
    "            if word not in counts:\n",
    "                counts[word] = 1\n",
    "            else:\n",
    "                counts[word] += 1\n",
    "\n",
    "print(counts[word])\n"
   ]
  },
  {
   "cell_type": "code",
   "execution_count": null,
   "metadata": {},
   "outputs": [],
   "source": [
    "print(max[counts, key=counts.get]),(max(counts.values()))"
   ]
  },
  {
   "cell_type": "code",
   "execution_count": 2,
   "metadata": {},
   "outputs": [
    {
     "name": "stdout",
     "output_type": "stream",
     "text": [
      "cwen@iupui.edu 5\n"
     ]
    }
   ],
   "source": [
    "\n",
    "dictionary_addresses = dict()                   # Initialize variables\n",
    "maximum = 0\n",
    "maximum_address = ''\n",
    "\n",
    "fname = input('Enter file name: ')\n",
    "try:\n",
    "    fhand = open(fname)\n",
    "except FileNotFoundError:\n",
    "    print('File cannot be opened:', fname)\n",
    "\n",
    "for line in fhand:\n",
    "    words = line.split()\n",
    "    if len(words) < 2 or words[0] != 'From':\n",
    "        continue\n",
    "\n",
    "    if words[1] not in dictionary_addresses:\n",
    "        dictionary_addresses[words[1]] = 1      # First entry\n",
    "    else:\n",
    "        dictionary_addresses[words[1]] += 1     # Additional counts\n",
    "\n",
    "for address in dictionary_addresses:\n",
    "    if dictionary_addresses[address] > maximum:     # Checks if new maximum\n",
    "        # Update the maximum if needed\n",
    "        maximum = dictionary_addresses[address]\n",
    "        # Stors the address of maximum\n",
    "        maximum_address = address\n",
    "\n",
    "print(maximum_address, maximum)"
   ]
  },
  {
   "cell_type": "markdown",
   "metadata": {},
   "source": [
    "##### 9.5"
   ]
  },
  {
   "cell_type": "code",
   "execution_count": null,
   "metadata": {},
   "outputs": [],
   "source": [
    "dictionary_domains = dict()                       # Initialize variables\n",
    "\n",
    "fname = input('Enter file name: ')\n",
    "try:\n",
    "    fhand = open(fname)\n",
    "except FileNotFoundError:\n",
    "    print('File cannot be opened:', fname)\n",
    "    quit()\n",
    "\n",
    "for line in fhand:\n",
    "    words = line.split()\n",
    "    if len(words) < 2 or words[0] != 'From':\n",
    "        continue\n",
    "    else:\n",
    "        atpos = words[1].find('@')               # Position of '@'\n",
    "        domain = words[1][atpos+1:]              # Store characters after '@'\n",
    "        if domain not in dictionary_domains:\n",
    "            dictionary_domains[domain] = 1       # First entry\n",
    "        else:\n",
    "            dictionary_domains[domain] += 1      # Additional counts\n",
    "\n",
    "print(dictionary_domains)"
   ]
  },
  {
   "cell_type": "markdown",
   "metadata": {},
   "source": [
    "##### 10.1"
   ]
  },
  {
   "cell_type": "code",
   "execution_count": 3,
   "metadata": {},
   "outputs": [
    {
     "name": "stdout",
     "output_type": "stream",
     "text": [
      "cwen@iupui.edu 5\n",
      "zqian@umich.edu 195\n",
      "File not found: \n",
      "File not found: \n"
     ]
    }
   ],
   "source": [
    "while True:\n",
    "    email_counts = {}\n",
    "\n",
    "    file_name = input(\"Enter file name: \")\n",
    "\n",
    "    if file_name.lower() == \"quit\":\n",
    "        break  \n",
    "\n",
    "    try:\n",
    "        with open(file_name, 'r') as file:\n",
    "            for line in file:\n",
    "                if line.startswith(\"From \"):\n",
    "                    email = line.split()[1]\n",
    "                    email_counts[email] = email_counts.get(email, 0) + 1\n",
    "\n",
    "        if email_counts:\n",
    "            most_commits = max(email_counts, key=email_counts.get)\n",
    "            print(f\"{most_commits} {email_counts[most_commits]}\")\n",
    "        else:\n",
    "            print(\"No email addresses found in the file.\")\n",
    "\n",
    "    except FileNotFoundError:\n",
    "        print(\"File not found:\", file_name)"
   ]
  },
  {
   "cell_type": "code",
   "execution_count": 3,
   "metadata": {},
   "outputs": [
    {
     "name": "stdout",
     "output_type": "stream",
     "text": [
      "zqian@umich.edu 195\n"
     ]
    }
   ],
   "source": [
    "email_addresses = dict()\n",
    "l = list()\n",
    "\n",
    "fname = input('Enter file name: ')\n",
    "try:\n",
    "    fhand = open(fname)\n",
    "except FileNotFoundError:\n",
    "    print('File cannot be opened:', fname)\n",
    "    quit()\n",
    "\n",
    "for line in fhand:\n",
    "    words = line.split()\n",
    "    if len(words) < 2 or words[0] != 'From':\n",
    "        continue\n",
    "    else:\n",
    "        if words[1] not in email_addresses:\n",
    "            email_addresses[words[1]] = 1\n",
    "        else:\n",
    "            email_addresses[words[1]] += 1\n",
    "\n",
    "for key, val in list(email_addresses.items()):\n",
    "    l.append((val, key))\n",
    "\n",
    "l.sort(reverse=True)\n",
    "\n",
    "for count, email in l[:1]:\n",
    "    print(email, count)"
   ]
  },
  {
   "cell_type": "markdown",
   "metadata": {},
   "source": [
    "##### 10.2"
   ]
  },
  {
   "cell_type": "code",
   "execution_count": 6,
   "metadata": {},
   "outputs": [
    {
     "name": "stdout",
     "output_type": "stream",
     "text": [
      "04 3\n",
      "06 1\n",
      "07 1\n",
      "09 2\n",
      "10 3\n",
      "11 6\n",
      "14 1\n",
      "15 2\n",
      "16 4\n",
      "17 2\n",
      "18 1\n",
      "19 1\n"
     ]
    }
   ],
   "source": [
    "from_hours = dict()\n",
    "l = list()\n",
    "\n",
    "fname = input('Enter file name: ')\n",
    "try:\n",
    "    fhand = open(fname)\n",
    "except FileNotFoundError:\n",
    "    print('File cannot be opened:', fname)\n",
    "    quit()\n",
    "\n",
    "for line in fhand:\n",
    "    words = line.split()\n",
    "    if len(words) < 5 or words[0] != 'From':\n",
    "        continue\n",
    "\n",
    "    col_pos = words[5].find(':')\n",
    "    hour = words[5][:col_pos]\n",
    "    if hour not in from_hours:\n",
    "        from_hours[hour] = 1\n",
    "    else:\n",
    "        from_hours[hour] += 1\n",
    "\n",
    "for key, val in list(from_hours.items()):\n",
    "    l.append((key, val))\n",
    "\n",
    "l.sort()\n",
    "\n",
    "for key, val in l:\n",
    "    print(key, val)"
   ]
  },
  {
   "cell_type": "markdown",
   "metadata": {},
   "source": [
    "##### 10.3"
   ]
  },
  {
   "cell_type": "code",
   "execution_count": 1,
   "metadata": {},
   "outputs": [
    {
     "name": "stdout",
     "output_type": "stream",
     "text": [
      "0.09597083674983777 e\n",
      "0.0844039700177389 a\n",
      "0.07524330420555464 i\n",
      "0.0734347342347521 o\n",
      "0.07188103628636498 t\n",
      "0.06695058095619051 r\n",
      "0.0656175503972013 s\n",
      "0.05655997354841713 c\n",
      "0.0504843756086762 u\n",
      "0.04534536702996421 n\n",
      "0.042308043124441204 m\n",
      "0.04001158206879122 p\n",
      "0.03524502393849247 d\n",
      "0.034415799119990806 l\n",
      "0.0247073841151784 h\n",
      "0.020703304262562363 k\n",
      "0.02032539057415327 b\n",
      "0.017757192711752808 v\n",
      "0.017637238964017678 f\n",
      "0.016317985271104972 g\n",
      "0.012150958347308142 j\n",
      "0.011438836890456812 y\n",
      "0.011138596222858387 w\n",
      "0.008078706760830754 x\n",
      "0.0009707939940464936 q\n",
      "0.0009014345993164774 z\n"
     ]
    }
   ],
   "source": [
    "import string\n",
    "\n",
    "counts = 0\n",
    "dictionary_counts = dict()\n",
    "relative_lst = list()\n",
    "\n",
    "fname = input('Enter file name: ')\n",
    "try:\n",
    "    fhand = open(fname)\n",
    "except FileNotFoundError:\n",
    "    print('File cannot be opened:', fname)\n",
    "\n",
    "for line in fhand:\n",
    "    line = line.translate(str.maketrans('', '', string.digits))\n",
    "    line = line.translate(str.maketrans('', '', string.punctuation))\n",
    "    line = line.lower()\n",
    "    words = line.split()\n",
    "    for word in words:\n",
    "        for letter in word:\n",
    "            counts += 1\n",
    "            if letter not in dictionary_counts:\n",
    "                dictionary_counts[letter] = 1\n",
    "            else:\n",
    "                dictionary_counts[letter] += 1\n",
    "\n",
    "for key, val in list(dictionary_counts.items()):\n",
    "    relative_lst.append((val / counts, key))\n",
    "\n",
    "relative_lst.sort(reverse=True)\n",
    "\n",
    "for key, val in relative_lst:\n",
    "    print(key, val)"
   ]
  }
 ],
 "metadata": {
  "kernelspec": {
   "display_name": "base",
   "language": "python",
   "name": "python3"
  },
  "language_info": {
   "codemirror_mode": {
    "name": "ipython",
    "version": 3
   },
   "file_extension": ".py",
   "mimetype": "text/x-python",
   "name": "python",
   "nbconvert_exporter": "python",
   "pygments_lexer": "ipython3",
   "version": "3.11.4"
  },
  "orig_nbformat": 4
 },
 "nbformat": 4,
 "nbformat_minor": 2
}
