{
 "cells": [
  {
   "cell_type": "markdown",
   "metadata": {},
   "source": [
    "## Week 4 - Hannah Bowlin\n",
    "### 7.1"
   ]
  },
  {
   "cell_type": "code",
   "execution_count": null,
   "metadata": {},
   "outputs": [],
   "source": [
    "fname = input('Enter the file name: ')\n",
    "try:\n",
    "    fhand = open(fname)\n",
    "except:\n",
    "    print('File cannot be opened:', fname)\n",
    "    exit()\n",
    "for line in fhand:\n",
    "    upper_line = line.upper()\n",
    "    print(upper_line)"
   ]
  },
  {
   "cell_type": "markdown",
   "metadata": {},
   "source": [
    "### 7.2"
   ]
  },
  {
   "cell_type": "code",
   "execution_count": 1,
   "metadata": {},
   "outputs": [
    {
     "name": "stdout",
     "output_type": "stream",
     "text": [
      "The average spam confidence is 0.8941280467445736.\n"
     ]
    }
   ],
   "source": [
    "count = 0\n",
    "total = 0\n",
    "fname = input('Enter the file name: ')\n",
    "try:\n",
    "    fhand = open(fname)\n",
    "except:\n",
    "    print('File cannot be opened:', fname)\n",
    "    exit()\n",
    "for line in fhand:\n",
    "    line = line.rstrip()\n",
    "    if line.find('X-DSPAM-Confidence:') == -1: continue\n",
    "    num_pos = line.find(\" \")\n",
    "    num = float(line[num_pos+1:])\n",
    "    count = count + 1\n",
    "    total = total + (num)\n",
    "    continue\n",
    "print(f\"The average spam confidence is {total/count}.\")"
   ]
  },
  {
   "cell_type": "markdown",
   "metadata": {},
   "source": [
    "### 7.3"
   ]
  },
  {
   "cell_type": "code",
   "execution_count": 4,
   "metadata": {},
   "outputs": [
    {
     "name": "stdout",
     "output_type": "stream",
     "text": [
      "File cannot be opened: missing.tyxt\n"
     ]
    }
   ],
   "source": [
    "count = 0\n",
    "fname = input('Enter the file name: ')\n",
    "\n",
    "if fname == \"na na boo boo\":\n",
    "    print(\"NA NA BOO BOO: you found an easter egg!\")\n",
    "else:\n",
    "    try:\n",
    "        fhand = open(fname)\n",
    "        for line in fhand:\n",
    "            line = line.rstrip()\n",
    "            if line.startswith('Subject:'):\n",
    "                count = count + 1\n",
    "        print(f\"There were {count} subject lines in mbox.txt.\")\n",
    "    except:\n",
    "        print('File cannot be opened:', fname)\n"
   ]
  },
  {
   "cell_type": "code",
   "execution_count": 1,
   "metadata": {},
   "outputs": [
    {
     "name": "stdout",
     "output_type": "stream",
     "text": [
      "NA NA BOO BOO: you found an easter egg!\n"
     ]
    }
   ],
   "source": [
    "count = 0\n",
    "fname = input('Enter the file name: ')\n",
    "\n",
    "if fname == \"na na boo boo\":\n",
    "    print(\"NA NA BOO BOO: you found an easter egg!\")\n",
    "else:\n",
    "    try:\n",
    "        fhand = open(fname)\n",
    "        for line in fhand:\n",
    "            line = line.rstrip()\n",
    "            if line.startswith('Subject:'):\n",
    "                count = count + 1\n",
    "        print(f\"There were {count} subject lines in mbox.txt.\")\n",
    "    except:\n",
    "        print('File cannot be opened:', fname)\n"
   ]
  },
  {
   "cell_type": "code",
   "execution_count": 2,
   "metadata": {},
   "outputs": [
    {
     "name": "stdout",
     "output_type": "stream",
     "text": [
      "There were 1797 subject lines in mbox.txt.\n"
     ]
    }
   ],
   "source": [
    "count = 0\n",
    "fname = input('Enter the file name: ')\n",
    "\n",
    "if fname == \"na na boo boo\":\n",
    "    print(\"NA NA BOO BOO: you found an easter egg!\")\n",
    "else:\n",
    "    try:\n",
    "        fhand = open(fname)\n",
    "        for line in fhand:\n",
    "            line = line.rstrip()\n",
    "            if line.startswith('Subject:'):\n",
    "                count = count + 1\n",
    "        print(f\"There were {count} subject lines in mbox.txt.\")\n",
    "    except:\n",
    "        print('File cannot be opened:', fname)\n"
   ]
  },
  {
   "cell_type": "code",
   "execution_count": 1,
   "metadata": {},
   "outputs": [
    {
     "name": "stdout",
     "output_type": "stream",
     "text": [
      "NA NA BOO BOO: you found an easter egg!\n",
      "File cannot be opened: na na boo boo\n"
     ]
    },
    {
     "ename": "NameError",
     "evalue": "name 'fhand' is not defined",
     "output_type": "error",
     "traceback": [
      "\u001b[1;31m---------------------------------------------------------------------------\u001b[0m",
      "\u001b[1;31mNameError\u001b[0m                                 Traceback (most recent call last)",
      "\u001b[1;32mc:\\Users\\hdbow\\Dropbox\\Hannah\\Purdue\\Fall 2023\\Programming\\Programming Challenges\\Week_4_Challenge_Bowlin.ipynb Cell 7\u001b[0m line \u001b[0;36m1\n\u001b[0;32m      <a href='vscode-notebook-cell:/c%3A/Users/hdbow/Dropbox/Hannah/Purdue/Fall%202023/Programming/Programming%20Challenges/Week_4_Challenge_Bowlin.ipynb#W6sZmlsZQ%3D%3D?line=8'>9</a>\u001b[0m     \u001b[39mprint\u001b[39m(\u001b[39m'\u001b[39m\u001b[39mFile cannot be opened:\u001b[39m\u001b[39m'\u001b[39m, fname)\n\u001b[0;32m     <a href='vscode-notebook-cell:/c%3A/Users/hdbow/Dropbox/Hannah/Purdue/Fall%202023/Programming/Programming%20Challenges/Week_4_Challenge_Bowlin.ipynb#W6sZmlsZQ%3D%3D?line=9'>10</a>\u001b[0m     exit()\n\u001b[1;32m---> <a href='vscode-notebook-cell:/c%3A/Users/hdbow/Dropbox/Hannah/Purdue/Fall%202023/Programming/Programming%20Challenges/Week_4_Challenge_Bowlin.ipynb#W6sZmlsZQ%3D%3D?line=10'>11</a>\u001b[0m \u001b[39mfor\u001b[39;00m line \u001b[39min\u001b[39;00m fhand:\n\u001b[0;32m     <a href='vscode-notebook-cell:/c%3A/Users/hdbow/Dropbox/Hannah/Purdue/Fall%202023/Programming/Programming%20Challenges/Week_4_Challenge_Bowlin.ipynb#W6sZmlsZQ%3D%3D?line=11'>12</a>\u001b[0m     line \u001b[39m=\u001b[39m line\u001b[39m.\u001b[39mrstrip()\n\u001b[0;32m     <a href='vscode-notebook-cell:/c%3A/Users/hdbow/Dropbox/Hannah/Purdue/Fall%202023/Programming/Programming%20Challenges/Week_4_Challenge_Bowlin.ipynb#W6sZmlsZQ%3D%3D?line=12'>13</a>\u001b[0m     \u001b[39mif\u001b[39;00m line\u001b[39m.\u001b[39mstartswith(\u001b[39m'\u001b[39m\u001b[39mSubject:\u001b[39m\u001b[39m'\u001b[39m):\n",
      "\u001b[1;31mNameError\u001b[0m: name 'fhand' is not defined"
     ]
    },
    {
     "ename": "",
     "evalue": "",
     "output_type": "error",
     "traceback": [
      "\u001b[1;31mThe Kernel crashed while executing code in the the current cell or a previous cell. Please review the code in the cell(s) to identify a possible cause of the failure. Click <a href='https://aka.ms/vscodeJupyterKernelCrash'>here</a> for more info. View Jupyter <a href='command:jupyter.viewOutput'>log</a> for further details."
     ]
    }
   ],
   "source": [
    "count = 0\n",
    "fname = input('Enter the file name: ')\n",
    "try:\n",
    "    if fname == \"na na boo boo\":\n",
    "        print(\"NA NA BOO BOO: you found an easter egg!\")\n",
    "        exit()\n",
    "    fhand = open(fname)\n",
    "except:\n",
    "    print('File cannot be opened:', fname)\n",
    "    exit()\n",
    "for line in fhand:\n",
    "    line = line.rstrip()\n",
    "    if line.startswith('Subject:'):\n",
    "        count = count + 1\n",
    "\n",
    "print(f\"There were {count} subject lines in mbox.txt.\")"
   ]
  }
 ],
 "metadata": {
  "kernelspec": {
   "display_name": "base",
   "language": "python",
   "name": "python3"
  },
  "language_info": {
   "codemirror_mode": {
    "name": "ipython",
    "version": 3
   },
   "file_extension": ".py",
   "mimetype": "text/x-python",
   "name": "python",
   "nbconvert_exporter": "python",
   "pygments_lexer": "ipython3",
   "version": "3.11.4"
  },
  "orig_nbformat": 4
 },
 "nbformat": 4,
 "nbformat_minor": 2
}
